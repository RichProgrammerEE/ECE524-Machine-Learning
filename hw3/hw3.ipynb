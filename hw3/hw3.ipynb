{
 "cells": [
  {
   "cell_type": "code",
   "execution_count": null,
   "metadata": {},
   "outputs": [],
   "source": [
    "import math\n",
    "from pathlib import Path\n",
    "from typing import Tuple, Callable, List\n",
    "from IPython.display import display, Math, Image\n",
    "\n",
    "import cv2\n",
    "import numba\n",
    "import numpy as np\n",
    "import pandas as pd\n",
    "import matplotlib.pyplot as plt\n",
    "import cvxpy as cp\n",
    "\n",
    "plt.rcParams['text.usetex'] = True"
   ]
  },
  {
   "attachments": {},
   "cell_type": "markdown",
   "metadata": {},
   "source": [
    "## Exercise 1:"
   ]
  },
  {
   "cell_type": "code",
   "execution_count": null,
   "metadata": {},
   "outputs": [],
   "source": [
    "display(Image(filename=\"./images/hw3_p1a.png\", height=400, width=500))"
   ]
  },
  {
   "cell_type": "code",
   "execution_count": null,
   "metadata": {},
   "outputs": [],
   "source": [
    "display(Image(filename=\"./images/hw3_p1b.png\", height=400, width=500))"
   ]
  },
  {
   "cell_type": "code",
   "execution_count": null,
   "metadata": {},
   "outputs": [],
   "source": [
    "display(Image(filename=\"./images/hw3_p1c.png\", height=400, width=500))"
   ]
  },
  {
   "cell_type": "code",
   "execution_count": null,
   "metadata": {},
   "outputs": [],
   "source": [
    "display(Image(filename=\"./images/hw3_p1d.png\", height=400, width=500))"
   ]
  },
  {
   "attachments": {},
   "cell_type": "markdown",
   "metadata": {},
   "source": [
    "# Problem 1d)\n",
    "\n",
    "With $\\lambda_i = 1$, we look at the Eigen Decomposition of $A$:\n",
    "\n",
    "$$A = Q I Q^{-1} = Q Q^{-1} = I $$\n",
    "\n",
    "Since we maximized $\\mathcal{p} (\\mathcal{D} \\vert \\Sigma)$ with respect to $\\lambda_i$, we have:\n",
    "\n",
    "$$ A = \\Sigma^{-1} \\tilde{\\Sigma} = \\Sigma^{-1}_{ML} \\tilde{\\Sigma} = I $$\n",
    "\n",
    "Thus,\n",
    "\n",
    "$$ \\Sigma_{ML} = \\tilde{\\Sigma} $$"
   ]
  },
  {
   "attachments": {},
   "cell_type": "markdown",
   "metadata": {},
   "source": [
    "### Problem 1f:\n",
    "An alternative to finding this result, at least numerically would be Gradient Descent."
   ]
  },
  {
   "attachments": {},
   "cell_type": "markdown",
   "metadata": {},
   "source": [
    "### Problem 1g:\n",
    "An unbiased estimate is:"
   ]
  },
  {
   "cell_type": "code",
   "execution_count": null,
   "metadata": {
    "tags": []
   },
   "outputs": [],
   "source": [
    "display(Math(r\"\\hat{\\Sigma}_{unbias} = \\frac{1}{N-1} \\sum_{n=1}^{N} (\\vec{x}_n - \\hat{\\vec{\\mu}})(\\vec{x}_n - \\hat{\\vec{\\mu}})^T\"))"
   ]
  },
  {
   "cell_type": "code",
   "execution_count": null,
   "metadata": {},
   "outputs": [],
   "source": [
    "# Load the training data\n",
    "def data_directory() -> Path:\n",
    "    return Path().cwd() / \"data\"\n",
    "\n",
    "train_cat = np.matrix(np.loadtxt(str(data_directory() / \"train_cat.txt\"), delimiter=\",\"))\n",
    "train_grass = np.matrix(np.loadtxt(str(data_directory() / \"train_grass.txt\"), delimiter=\",\"))\n",
    "\n",
    "print(f\"Training Cat Shape: {train_cat.shape}\")\n",
    "print(f\"Training Grass Shape: {train_grass.shape}\")"
   ]
  },
  {
   "attachments": {},
   "cell_type": "markdown",
   "metadata": {},
   "source": [
    "## Exercise 2: Bayesian Decision Rule"
   ]
  },
  {
   "cell_type": "code",
   "execution_count": null,
   "metadata": {},
   "outputs": [],
   "source": [
    "display(Image(filename=\"./images/hw3_p2a.png\", height=400, width=500))"
   ]
  },
  {
   "attachments": {},
   "cell_type": "markdown",
   "metadata": {},
   "source": [
    "### Problem 2b:"
   ]
  },
  {
   "cell_type": "code",
   "execution_count": 2,
   "metadata": {},
   "outputs": [
    {
     "ename": "NameError",
     "evalue": "name 'train_grass' is not defined",
     "output_type": "error",
     "traceback": [
      "\u001b[0;31m---------------------------------------------------------------------------\u001b[0m",
      "\u001b[0;31mNameError\u001b[0m                                 Traceback (most recent call last)",
      "Cell \u001b[0;32mIn[2], line 2\u001b[0m\n\u001b[1;32m      1\u001b[0m \u001b[39m# Estimate means\u001b[39;00m\n\u001b[0;32m----> 2\u001b[0m mu0 \u001b[39m=\u001b[39m train_grass\u001b[39m.\u001b[39mmean(axis\u001b[39m=\u001b[39m\u001b[39m1\u001b[39m)\n\u001b[1;32m      3\u001b[0m mu1 \u001b[39m=\u001b[39m train_cat\u001b[39m.\u001b[39mmean(axis\u001b[39m=\u001b[39m\u001b[39m1\u001b[39m)\n\u001b[1;32m      4\u001b[0m \u001b[39m# print(train_grass[1, :].sum() / gM)\u001b[39;00m\n\u001b[1;32m      5\u001b[0m \u001b[39m# print(mu0)\u001b[39;00m\n",
      "\u001b[0;31mNameError\u001b[0m: name 'train_grass' is not defined"
     ]
    }
   ],
   "source": [
    "gN, gM = train_grass.shape\n",
    "cN, cM = train_cat.shape\n",
    "\n",
    "\n",
    "\n",
    "# Estimate means\n",
    "mu0 = train_grass.mean(axis=1)\n",
    "mu1 = train_cat.mean(axis=1)\n",
    "# print(train_grass[1, :].sum() / gM)\n",
    "# print(mu0)\n",
    "display(Math(rf\"\\mu_0: {mu0[0:2]}\"))\n",
    "display(Math(rf\"\\mu_1: {mu1[0:2]}\"))\n",
    "\n",
    "# Estimate variances\n",
    "sigma0 = np.cov(train_grass, bias=False)\n",
    "sigma1 = np.cov(train_cat, bias=False)\n",
    "display(Math(rf\"\\Sigma_0:\"))\n",
    "print(sigma0[0:2, 0:2])\n",
    "# DEBUG:\n",
    "# i = 1; j = 1\n",
    "# print(1 / (gM - 1) * ((train_grass[i, :] - mu0[i]) * (train_grass[j, :] - mu0[j]).T))\n",
    "display(Math(rf\"\\Sigma_1:\"))\n",
    "print(sigma1[0:2, 0:2])\n",
    "\n",
    "# Estimate priors\n",
    "pi0 = gM / (cM + gM)\n",
    "pi1 = cM / (cM + gM)\n",
    "display(Math(rf\"\\pi_0: {pi0}\"))\n",
    "display(Math(rf\"\\pi_1: {pi1}\"))"
   ]
  },
  {
   "attachments": {},
   "cell_type": "markdown",
   "metadata": {},
   "source": [
    "### Problem 2c:"
   ]
  },
  {
   "cell_type": "code",
   "execution_count": null,
   "metadata": {},
   "outputs": [],
   "source": [
    "# Calculate sigma inverses for decision rule\n",
    "sigma_0_inv = np.linalg.inv(sigma0)\n",
    "sigma_1_inv = np.linalg.inv(sigma1)\n",
    "sigma_0_det = np.linalg.det(sigma0)\n",
    "sigma_1_det = np.linalg.det(sigma1)\n",
    "\n",
    "@numba.jit\n",
    "def make_decision(x: np.array) -> int:\n",
    "    '''Returns 0/1 depending on classification'''\n",
    "    xmmu0 = (x - mu0)\n",
    "    xmmu1 = (x - mu1)\n",
    "    c0 = -1/2 * xmmu0.T @ sigma_0_inv @ xmmu0 + math.log(pi0) - 1/2 * math.log(sigma_0_det)\n",
    "    c1 = -1/2 * xmmu1.T @ sigma_1_inv @ xmmu1 + math.log(pi1) - 1/2 * math.log(sigma_1_det)\n",
    "    return 1 if c1 > c0 else 0\n",
    "\n",
    "@numba.jit\n",
    "def classify(img: np.matrix) -> np.matrix:\n",
    "    M, N = img.shape\n",
    "    P = np.zeros(shape=(M-8, N-8)) - 1 # Initialize prediction matrix to -1's\n",
    "    for i in range(M-8):\n",
    "        for j in range(N-8):\n",
    "            block = img[i:i+8, j:j+8].copy()\n",
    "            x = block.reshape(64, 1)\n",
    "            P[i, j] = make_decision(x=x)\n",
    "    return P\n",
    "\n",
    "Y = plt.imread(str(data_directory() / \"cat_grass.jpg\")) / 255\n",
    "P = classify(Y)\n",
    "\n",
    "fig = plt.figure()\n",
    "plt.imshow(Y, cmap=plt.cm.gray)\n",
    "plt.title(\"Cat in grass (training)\")\n",
    "fig.gca().axes.xaxis.set_visible(False)\n",
    "fig.gca().axes.yaxis.set_visible(False)\n",
    "fig = plt.figure()\n",
    "plt.imshow(P, cmap=plt.cm.gray)\n",
    "plt.title(\"Classification\")\n",
    "fig.gca().axes.xaxis.set_visible(False)\n",
    "fig.gca().axes.yaxis.set_visible(False)"
   ]
  },
  {
   "attachments": {},
   "cell_type": "markdown",
   "metadata": {},
   "source": [
    "### Problem 2d:"
   ]
  },
  {
   "cell_type": "code",
   "execution_count": null,
   "metadata": {},
   "outputs": [],
   "source": [
    "# Calculate the Mean Absolute Error (MAE)\n",
    "Y_truth = plt.imread(str(data_directory() / \"truth.png\")) / 255\n",
    "Y_truth[(Y_truth > 0)] = 1.0 # Truth data should be class one where cat is\n",
    "M, N = Y_truth.shape\n",
    "Y_truth = Y_truth[0:M-8, 0:N-8]\n",
    "n_pixels = Y_truth.size\n",
    "MAE = np.abs(P - Y_truth).sum() / n_pixels\n",
    "print(f\"MAE: {MAE}\")\n",
    "\n",
    "fig = plt.figure()\n",
    "plt.imshow(Y_truth, cmap=plt.cm.gray)\n",
    "plt.title(\"Labeled Truth\")\n",
    "fig.gca().axes.xaxis.set_visible(False)\n",
    "fig.gca().axes.yaxis.set_visible(False)"
   ]
  },
  {
   "attachments": {},
   "cell_type": "markdown",
   "metadata": {},
   "source": [
    "### Problem 2e:"
   ]
  },
  {
   "cell_type": "code",
   "execution_count": null,
   "metadata": {},
   "outputs": [],
   "source": [
    "img = cv2.imread(str(data_directory() / \"test_wild3.jpeg\"))\n",
    "converted = cv2.cvtColor(img, cv2.COLOR_BGR2GRAY)\n",
    "converted: np.matrix = np.asarray(converted) / 255\n",
    "\n",
    "P2 = classify(converted)\n",
    "print(P2.max())\n",
    "\n",
    "fig = plt.figure()\n",
    "plt.imshow(converted, cmap=plt.cm.gray)\n",
    "plt.title(\"Cat in grass (from Google)\")\n",
    "fig.gca().axes.xaxis.set_visible(False)\n",
    "fig.gca().axes.yaxis.set_visible(False)\n",
    "fig = plt.figure()\n",
    "plt.imshow(P2, cmap=plt.cm.gray)\n",
    "plt.title(\"Classification\")\n",
    "fig.gca().axes.xaxis.set_visible(False)\n",
    "fig.gca().axes.yaxis.set_visible(False)"
   ]
  },
  {
   "attachments": {},
   "cell_type": "markdown",
   "metadata": {},
   "source": [
    "The model performs very poorly as observed above. This is mainly due to the small amount of training data. We estimated the model parameters based on one example of cat + grass. Considering the number of different cat + grass images available, this is not likely to perform well on an out of sample data."
   ]
  },
  {
   "attachments": {},
   "cell_type": "markdown",
   "metadata": {},
   "source": [
    "## Exercise 3: Receiver Operating Curve (ROC)"
   ]
  },
  {
   "attachments": {},
   "cell_type": "markdown",
   "metadata": {},
   "source": [
    "### Problem 3a:"
   ]
  },
  {
   "cell_type": "code",
   "execution_count": null,
   "metadata": {},
   "outputs": [],
   "source": [
    "display(Image(filename=\"./images/hw3_p3a.png\", height=400, width=500))\n",
    "\n",
    "tau = pi0 / pi1\n",
    "display(Math(rf\"\\tau: {tau}, \\ log(\\tau): {math.log(tau)}\"))\n"
   ]
  },
  {
   "attachments": {},
   "cell_type": "markdown",
   "metadata": {},
   "source": [
    "### Problem 3b & 3c:"
   ]
  },
  {
   "cell_type": "code",
   "execution_count": null,
   "metadata": {},
   "outputs": [],
   "source": [
    "@numba.jit\n",
    "def log_likelihood_ratio(x: np.array) -> int:\n",
    "    '''Returns 0/1 depending on classification'''\n",
    "    xmmu0 = (x - mu0)\n",
    "    xmmu1 = (x - mu1)\n",
    "    c0 = -1/2 * xmmu0.T @ sigma_0_inv @ xmmu0 + math.log(pi0) - 1/2 * math.log(sigma_0_det)\n",
    "    c1 = -1/2 * xmmu1.T @ sigma_1_inv @ xmmu1 + math.log(pi1) - 1/2 * math.log(sigma_1_det)\n",
    "    return c1 - c0\n",
    "\n",
    "@numba.jit\n",
    "def count_positives(img: np.matrix, truth: np.matrix, tau: float) -> Tuple[int, int]:\n",
    "    M, N = img.shape\n",
    "    true_positives = 0\n",
    "    false_positives = 0\n",
    "    # llr_values = []\n",
    "    # Loop over the image and determine if this is a true/false positive\n",
    "    for i in range(M-8):\n",
    "        for j in range(N-8):\n",
    "            block = img[i:i+8, j:j+8].copy()\n",
    "            x = block.reshape(64, 1)\n",
    "            llr = log_likelihood_ratio(x=x)\n",
    "            predicted_class = 1 if llr > tau else 0\n",
    "            # llr_values.append(llr)\n",
    "            truth_class = truth[i, j]\n",
    "            if predicted_class > 0:\n",
    "                if truth_class > 0:\n",
    "                    true_positives += 1\n",
    "                else:\n",
    "                    false_positives += 1\n",
    "    # print(max(llr_values), min(llr_values))\n",
    "    return (true_positives, false_positives)\n",
    "\n",
    "total_positives = (Y_truth > 0).sum()\n",
    "total_negatives = (Y_truth == 0).sum()\n",
    "print(f\"Total Positives: {total_positives}, Total Negatives: {total_negatives}\")\n",
    "\n",
    "# Loop over different values of tau\n",
    "count = 100\n",
    "pds = []\n",
    "pfs = []\n",
    "for tau_i in np.linspace(-365, 50, count):\n",
    "    tp, fp = count_positives(Y, Y_truth, tau = tau_i)\n",
    "    pds.append(tp / total_positives)\n",
    "    pfs.append(fp / total_negatives)"
   ]
  },
  {
   "cell_type": "code",
   "execution_count": null,
   "metadata": {},
   "outputs": [],
   "source": [
    "# Calculate the Bayesian decision point on the ROC\n",
    "bay_tp, bay_fp = count_positives(Y, Y_truth, tau = tau)\n",
    "bay_pd = bay_tp / total_positives\n",
    "bay_pf = bay_fp / total_negatives\n",
    "\n",
    "fig = plt.figure()\n",
    "plt.plot(pfs, pds, linewidth=3)\n",
    "plt.plot(bay_pf, bay_pd, \"ro\", markersize=8)\n",
    "plt.legend([\"ROC\", \"Bayesian Decision Point\"])\n",
    "plt.title(\"ROC\")\n",
    "plt.xlabel(r\"$p_F(\\tau)$\")\n",
    "plt.ylabel(r\"$p_D(\\tau)$\")"
   ]
  },
  {
   "attachments": {},
   "cell_type": "markdown",
   "metadata": {},
   "source": [
    "### Problem 3d:"
   ]
  },
  {
   "cell_type": "code",
   "execution_count": null,
   "metadata": {},
   "outputs": [],
   "source": [
    "@numba.jit\n",
    "def count_positives(img: np.matrix, theta_hat: np.matrix, truth: np.matrix, tau: float) -> Tuple[int, int]:\n",
    "    M, N = img.shape\n",
    "    true_positives = 0\n",
    "    false_positives = 0\n",
    "    ls_values = [] # Least-Square values\n",
    "    # Loop over the image and determine if this is a true/false positive\n",
    "    for i in range(M-8):\n",
    "        for j in range(N-8):\n",
    "            block = img[i:i+8, j:j+8].copy()\n",
    "            x = block.reshape(64, 1)\n",
    "            ls_value = theta_hat.T @ x\n",
    "            predicted_class = 1 if ls_value > tau else 0\n",
    "            ls_values.append(ls_value)\n",
    "            truth_class = truth[i, j]\n",
    "            if predicted_class > 0:\n",
    "                if truth_class > 0:\n",
    "                    true_positives += 1\n",
    "                else:\n",
    "                    false_positives += 1\n",
    "    # print(max(ls_values), min(ls_values))\n",
    "    return (true_positives, false_positives)\n",
    "\n",
    "# Cat stacked on Grass\n",
    "X = np.vstack((train_cat.T, train_grass.T))\n",
    "print(X.shape)\n",
    "\n",
    "b = np.vstack((\n",
    "    np.ones((train_cat.shape[1], 1)),\n",
    "    np.ones((train_grass.shape[1], 1)) * -1\n",
    "))\n",
    "print(b.shape)\n",
    "\n",
    "# Solve linear regression problem using cvxpy\n",
    "d = 64  # theta dimension\n",
    "theta_hat = cp.Variable((d, 1))\n",
    "objective = cp.Minimize(cp.sum_squares(X @ theta_hat - b))\n",
    "constraints = []\n",
    "prob = cp.Problem(objective, constraints)\n",
    "\n",
    "optimal_objective_value = prob.solve()\n",
    "display(Math(r\"\\hat{\\theta} \\text{ using cvxpy (first 10 values):}\"))\n",
    "# print(optimal_objective_value)\n",
    "theta_hat = theta_hat.value\n",
    "print(theta_hat[:10])\n",
    "\n",
    "p, fp = count_positives(Y, theta_hat, Y_truth, tau = 1)\n",
    "\n",
    "# Loop over different values of tau\n",
    "count = 100\n",
    "pds = []\n",
    "pfs = []\n",
    "for tau_i in np.linspace(-2, 0, count):\n",
    "    tp, fp = count_positives(Y, theta_hat, Y_truth, tau = tau_i)\n",
    "    pds.append(tp / total_positives)\n",
    "    pfs.append(fp / total_negatives)\n",
    "\n",
    "# Plot the least-squares ROC\n",
    "fig = plt.figure()\n",
    "plt.plot(pfs, pds, linewidth=3)\n",
    "plt.title(\"Least-Sqaures ROC\")\n",
    "plt.xlabel(r\"$p_F(\\tau)$\")\n",
    "plt.ylabel(r\"$p_D(\\tau)$\")\n"
   ]
  }
 ],
 "metadata": {
  "kernelspec": {
   "display_name": "venv",
   "language": "python",
   "name": "python3"
  },
  "language_info": {
   "codemirror_mode": {
    "name": "ipython",
    "version": 3
   },
   "file_extension": ".py",
   "mimetype": "text/x-python",
   "name": "python",
   "nbconvert_exporter": "python",
   "pygments_lexer": "ipython3",
   "version": "3.10.9"
  },
  "orig_nbformat": 4,
  "vscode": {
   "interpreter": {
    "hash": "cd14cc5ed7f67db981a217e1a91e90b7ba5091714f12b33df1f0a4abb702931e"
   }
  }
 },
 "nbformat": 4,
 "nbformat_minor": 2
}
